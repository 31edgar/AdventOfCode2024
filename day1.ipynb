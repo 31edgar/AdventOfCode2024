{
 "cells": [
  {
   "cell_type": "code",
   "execution_count": null,
   "metadata": {},
   "outputs": [
    {
     "data": {
      "text/plain": [
       "3569916"
      ]
     },
     "execution_count": 36,
     "metadata": {},
     "output_type": "execute_result"
    }
   ],
   "source": [
    "import math\n",
    "\n",
    "# Distance between two lists\n",
    "def lines():\n",
    "    l1 = []\n",
    "    l2 = []\n",
    "    \n",
    "    with open('input.txt') as fp:\n",
    "        for line in fp:\n",
    "            # Eliminar saltos de línea y espacios extra\n",
    "            line = line.strip()\n",
    "            \n",
    "            # Extraer todos los números en la línea\n",
    "            numbers = [int(x) for x in line.split() if x.isdigit()]\n",
    "\n",
    "            # Dividir los números en las dos listas\n",
    "            mid = len(numbers) // 2\n",
    "            l1.extend(numbers[:mid])  # Agregar la primera mitad\n",
    "            l2.extend(numbers[mid:])  # Agregar la segunda mitad\n",
    "\n",
    "    return l1, l2\n",
    "\n",
    "\n",
    "def distance():\n",
    "    total = lines()\n",
    "    l1, l2 = total[0], total[1]\n",
    "\n",
    "    distance = 0\n",
    "    while len(l1) != 0 or len(l2) != 0:\n",
    "        a, b = min(l1), min(l2)\n",
    "        distance += abs(a - b)\n",
    "        l1.remove(a)\n",
    "        l2.remove(b)\n",
    "\n",
    "    return distance\n",
    "distance()"
   ]
  },
  {
   "cell_type": "code",
   "execution_count": 38,
   "metadata": {},
   "outputs": [
    {
     "data": {
      "text/plain": [
       "26407426"
      ]
     },
     "execution_count": 38,
     "metadata": {},
     "output_type": "execute_result"
    }
   ],
   "source": [
    "def similarityScore():\n",
    "    total = lines()\n",
    "    l1, l2 = total[0], total[1]\n",
    "\n",
    "    score = 0\n",
    "\n",
    "    for number in l1:\n",
    "        count = 0\n",
    "        for numID in l2:\n",
    "            if number == numID:\n",
    "                count += 1\n",
    "        score += number * count\n",
    "\n",
    "    return score\n",
    "\n",
    "similarityScore()"
   ]
  }
 ],
 "metadata": {
  "kernelspec": {
   "display_name": "Python 3",
   "language": "python",
   "name": "python3"
  },
  "language_info": {
   "codemirror_mode": {
    "name": "ipython",
    "version": 3
   },
   "file_extension": ".py",
   "mimetype": "text/x-python",
   "name": "python",
   "nbconvert_exporter": "python",
   "pygments_lexer": "ipython3",
   "version": "3.13.0"
  }
 },
 "nbformat": 4,
 "nbformat_minor": 2
}
