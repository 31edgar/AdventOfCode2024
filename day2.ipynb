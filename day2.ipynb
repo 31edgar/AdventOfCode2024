{
 "cells": [
  {
   "cell_type": "code",
   "execution_count": null,
   "metadata": {},
   "outputs": [
    {
     "data": {
      "text/plain": [
       "463"
      ]
     },
     "execution_count": 13,
     "metadata": {},
     "output_type": "execute_result"
    }
   ],
   "source": [
    "def safeReportCounter(file):\n",
    "    reportList = [list(map(int, line.split(' '))) for line in open(file).read().splitlines()]\n",
    "    count = 0\n",
    "\n",
    "    for report in reportList:\n",
    "        if differenceChecker(report):\n",
    "            if report == sorted(report) or report == sorted(report, reverse=True):\n",
    "                count += 1\n",
    "\n",
    "    return count\n",
    "\n",
    "def differenceChecker(number):\n",
    "    for i in range(1, len(number)):\n",
    "        if abs(number[i-1] - number[i]) > 3 or abs(number[i-1] - number[i]) <= 0:\n",
    "            return False\n",
    "    return True\n",
    "    \n",
    "\n",
    "# 463"
   ]
  },
  {
   "cell_type": "code",
   "execution_count": null,
   "metadata": {},
   "outputs": [
    {
     "data": {
      "text/plain": [
       "514"
      ]
     },
     "execution_count": 12,
     "metadata": {},
     "output_type": "execute_result"
    }
   ],
   "source": [
    "def safeReportCounter2(file):\n",
    "    reportList = [list(map(int, line.split(' '))) for line in open(file).read().splitlines()]\n",
    "    count = 0\n",
    "\n",
    "    for report in reportList:\n",
    "        combinations = getCombinations(report)\n",
    "        for comb in combinations:\n",
    "            if differenceChecker(comb):\n",
    "                if comb == sorted(comb) or comb == sorted(comb, reverse=True):\n",
    "                    count += 1\n",
    "                    break\n",
    "\n",
    "    return count\n",
    "\n",
    "def differenceChecker(number):\n",
    "    for i in range(1, len(number)):\n",
    "        if abs(number[i-1] - number[i]) > 3 or abs(number[i-1] - number[i]) <= 0:\n",
    "            return False\n",
    "    return True\n",
    "\n",
    "def getCombinations(numbers):\n",
    "    return [numbers[:i-1] + numbers[i:] for i in range(1,len(numbers) + 1)]\n",
    "    \n",
    "# 514"
   ]
  }
 ],
 "metadata": {
  "kernelspec": {
   "display_name": "Python 3",
   "language": "python",
   "name": "python3"
  },
  "language_info": {
   "codemirror_mode": {
    "name": "ipython",
    "version": 3
   },
   "file_extension": ".py",
   "mimetype": "text/x-python",
   "name": "python",
   "nbconvert_exporter": "python",
   "pygments_lexer": "ipython3",
   "version": "3.12.0"
  }
 },
 "nbformat": 4,
 "nbformat_minor": 2
}
