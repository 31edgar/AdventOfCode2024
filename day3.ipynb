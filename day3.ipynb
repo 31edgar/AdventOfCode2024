{
 "cells": [
  {
   "cell_type": "code",
   "execution_count": null,
   "metadata": {},
   "outputs": [
    {
     "data": {
      "text/plain": [
       "184576302"
      ]
     },
     "execution_count": 46,
     "metadata": {},
     "output_type": "execute_result"
    }
   ],
   "source": [
    "import re\n",
    "\n",
    "def uncorruptedMul(text):\n",
    "    pattern = r'mul\\(\\d+,\\d+\\)' # Patrón que buscamos\n",
    "    matches = re.findall(r'mul\\(\\d+,\\d+\\)', text) # Lista con todos los patrones que hemos encontrado en el input\n",
    "    # Hacemos una lista de multiplicaciones de pares (números dentro del mul()), mapeada para que sean enteros. \n",
    "    # Sumamos toda la lista de multiplicaciones\n",
    "    return sum(mul(list(map(int, (pair[4:-1].split(','))))) for pair in matches) \n",
    "\n",
    "def mul(pair):\n",
    "    return int(pair[0]) * int(pair[1])\n",
    "\n",
    "# Llamada a la función\n",
    "input = open('input.txt').read()\n",
    "uncorruptedMul(input)\n"
   ]
  },
  {
   "cell_type": "code",
   "execution_count": 47,
   "metadata": {},
   "outputs": [
    {
     "data": {
      "text/plain": [
       "118173507"
      ]
     },
     "execution_count": 47,
     "metadata": {},
     "output_type": "execute_result"
    }
   ],
   "source": [
    "def uncorruptedMul2():\n",
    "    # Este será el texto final al que la aplicaremos uncorruptedMul()\n",
    "    # Contiene todos los mul() válidos, es decir, después de un do()\n",
    "    finalText = ''\n",
    "    # Texto del input sin manipular\n",
    "    text = open('input.txt').read()\n",
    "\n",
    "    doDont = True  # Comenzamos en un bloque válido\n",
    "\n",
    "    while text:\n",
    "        # Buscar posiciones de \"do()\" y \"don't()\"\n",
    "        pos_dont = text.find(\"don't()\")\n",
    "        pos_do = text.find(\"do()\")\n",
    "\n",
    "        # Caso de que no haya ningún dont o ningún do\n",
    "        if pos_dont == -1:\n",
    "            pos_dont = len(text) \n",
    "        if pos_do == -1:\n",
    "            pos_do = len(text)\n",
    "\n",
    "        if doDont:  # Estamos en un bloque válido\n",
    "            if pos_dont < pos_do:  # Si hay un dont primero\n",
    "                finalText += text[:pos_dont]\n",
    "                text = text[pos_dont + len(\"don't()\"):]\n",
    "                doDont = False  # Cambiamos a bloque inválido\n",
    "            else:  # Si encontramos \"do()\" primero\n",
    "                finalText += text[:pos_do]\n",
    "                text = text[pos_do + len(\"do()\"):]\n",
    "        else:  # Estamos en un bloque inválido\n",
    "            if pos_do < pos_dont:  # Si hay do primero\n",
    "                text = text[pos_do + len(\"do()\"):]\n",
    "                doDont = True  # Cambiamos a bloque válido porque hemos encontrado un do\n",
    "            else:  # Si encontramos \"don't()\" primero \n",
    "                text = text[pos_dont + len(\"don't()\"):]\n",
    "\n",
    "        # Salimos si no hay más patrones\n",
    "        if pos_dont == len(text) and pos_do == len(text):\n",
    "            if doDont:  # Si estamos en un bloque válido\n",
    "                finalText += text  # Añadir el resto del texto válido\n",
    "            break\n",
    "\n",
    "    return uncorruptedMul(finalText)\n",
    "\n",
    "uncorruptedMul2()"
   ]
  }
 ],
 "metadata": {
  "kernelspec": {
   "display_name": "Python 3",
   "language": "python",
   "name": "python3"
  },
  "language_info": {
   "codemirror_mode": {
    "name": "ipython",
    "version": 3
   },
   "file_extension": ".py",
   "mimetype": "text/x-python",
   "name": "python",
   "nbconvert_exporter": "python",
   "pygments_lexer": "ipython3",
   "version": "3.13.0"
  }
 },
 "nbformat": 4,
 "nbformat_minor": 2
}
