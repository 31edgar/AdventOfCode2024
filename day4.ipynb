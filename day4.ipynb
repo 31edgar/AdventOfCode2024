{
 "cells": [
  {
   "cell_type": "code",
   "execution_count": null,
   "metadata": {},
   "outputs": [],
   "source": [
    "# Average if enjoyer\n",
    "'''\n",
    "⠀⠀⠀⠀⠀⣀⣴⣶⣶⣶⣶⣶⣶⣶⣦⣄⣀⠀⠀⠀⠀⠀\n",
    "⠀⠀⣀⣴⣾⣿⣿⣿⣿⣿⠿⣿⣿⣿⣿⣿⣿⣷⡄⠀⠀⠀\n",
    "⠀⠀⣿⣿⣿⣿⣿⣿⠉⠀⠀⠀⠀⠀⠉⠉⠉⠙⢷⡄⠀⠀\n",
    "⠀⣼⣿⣿⣿⣿⣿⣿⣆⠀⠀⠀⠀⠀⠀⠀⠀⠀⠀⢻⡄⠀\n",
    "⠀⣿⣿⣿⣿⣿⡿⠛⠁⠀⣠⣾⣿⣶⣤⣤⣄⠀⠀⠀⡇⠀\n",
    "⠀⣿⣿⣿⣿⣿⠁⠀⠀⠚⠉⣴⣶⣦⡌⠙⠛⠀⣶⣶⣽⡄\n",
    "⣴⡿⠉⠻⣿⣿⠀⠀⠀⠀⠀⠀⠀⠉⠙⠀⠀⢆⣤⣭⡙⡇\n",
    "⣿⠀⠉⠇⣿⣿⣆⠀⠀⠀⠀⠀⠀⠀⠀⣀⠀⠀⠑⡄⠀⡇\n",
    "⠻⣍⠑⠇⣿⣿⣿⣷⣦⣄⡀⣀⣠⣤⣼⣦⣀⣠⣤⡇⠀⡇\n",
    "⠀⣿⡟⢲⣿⣿⣿⣿⣿⣿⣿⣿⣿⣿⣿⣿⣿⣿⣿⣷⣴⠇\n",
    "⠀⣿⡇⣼⣿⣿⣿⣿⣿⣿⣿⣿⣷⣆⣀⠀⠉⠉⢿⣿⡿\n",
    "⠀⣿⠀⢹⣿⣿⣿⣿⣿⣿⣿⣿⣿⣿⣿⣿⣿⣿⣿⣿⡇⠀\n",
    "⠀⣿⠀⠀⠙⠿⣿⣿⣿⣿⣿⣿⣿⣿⣿⣿⣿⣿⣿⣿⡇⠀\n",
    "⣼⡿⠀⠀⠀⠀⠀⠉⠙⢿⣿⣿⣿⣿⣿⣿⣿⣿⣿⣿⠇⠀\n",
    "⣿⠀⠀⠀⠀⠀⠀⠀⠀⠉⠛⠿⣿⣿⣿⣿⣿⣿⣿⠟⠀⠀\n",
    "⣿⠀⠀⠀⠀⠀⠀⠀⠀⠀⠀⠀⠀⠉⠉⣿⠛⠛⠁⠀\n",
    "\n",
    "\n",
    "'''\n",
    "\n",
    "def xmasCounter():\n",
    "# Creo una lista de líneas del input\n",
    "    counter = 0\n",
    "    input = [lines for lines in open('input.txt').read().splitlines()]\n",
    "    \n",
    "    for s in range(len(input)):\n",
    "        length = len(input[s])\n",
    "        for i in range(length):\n",
    "            # Cuando encontremos una X, buscamos\n",
    "            if input[s][i] == 'X':\n",
    "                if i + 3 < length and input[s][i:i+4] == \"XMAS\":\n",
    "                    counter += 1\n",
    "                if i >= 3 and input[s][i-3:i+1] == \"SAMX\":\n",
    "                    counter += 1\n",
    "                \n",
    "                if s >= 3 and input[s][i] + input[s-1][i] + input[s-2][i] + input[s-3][i] == \"XMAS\":\n",
    "                    counter += 1\n",
    "                if s + 3 < len(input) and input[s][i] + input[s+1][i] + input[s+2][i] + input[s+3][i] == \"XMAS\":\n",
    "                    counter += 1\n",
    "\n",
    "                if s >= 3 and i >= 3 and input[s][i] + input[s-1][i-1] + input[s-2][i-2] + input[s-3][i-3] == \"XMAS\":\n",
    "                    counter += 1\n",
    "                if s >= 3 and i + 3 < length and input[s][i] + input[s-1][i+1] + input[s-2][i+2] + input[s-3][i+3] == \"XMAS\":\n",
    "                    counter += 1\n",
    "\n",
    "                if s + 3 < len(input) and i >= 3 and input[s][i] + input[s+1][i-1] + input[s+2][i-2] + input[s+3][i-3] == \"XMAS\":\n",
    "                    counter += 1\n",
    "                if s + 3 < len(input) and i + 3 < length and input[s][i] + input[s+1][i+1] + input[s+2][i+2] + input[s+3][i+3] == \"XMAS\":\n",
    "                    counter += 1\n",
    "\n",
    "    return counter"
   ]
  },
  {
   "cell_type": "code",
   "execution_count": null,
   "metadata": {},
   "outputs": [
    {
     "data": {
      "text/plain": [
       "1807"
      ]
     },
     "execution_count": 63,
     "metadata": {},
     "output_type": "execute_result"
    }
   ],
   "source": [
    "def xMasCounter():\n",
    "    counter = 0\n",
    "    input = [lines for lines in open('input.txt').read().splitlines()]\n",
    "\n",
    "    for s in range(len(input)):\n",
    "        xd = 'MS'\n",
    "        length = len(input[s])\n",
    "        for i in range(length):\n",
    "            if 1 <= s <= len(input) - 2 and 1 <= i <= length - 2 and input[s][i] == 'A':\n",
    "                if input[s-1][i-1] in xd and input[s+1][i+1] in xd and input[s-1][i-1] != input[s+1][i+1]:\n",
    "                    if input[s-1][i+1] in xd and input[s+1][i-1] in xd and input[s-1][i+1] != input[s+1][i-1]:\n",
    "                        counter += 1\n",
    "\n",
    "    return counter"
   ]
  }
 ],
 "metadata": {
  "kernelspec": {
   "display_name": "Python 3",
   "language": "python",
   "name": "python3"
  },
  "language_info": {
   "codemirror_mode": {
    "name": "ipython",
    "version": 3
   },
   "file_extension": ".py",
   "mimetype": "text/x-python",
   "name": "python",
   "nbconvert_exporter": "python",
   "pygments_lexer": "ipython3",
   "version": "3.13.0"
  }
 },
 "nbformat": 4,
 "nbformat_minor": 2
}
